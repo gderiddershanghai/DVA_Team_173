{
 "cells": [
  {
   "cell_type": "code",
   "execution_count": 1,
   "id": "18153319-6b26-494f-bc1c-ef85ad904021",
   "metadata": {},
   "outputs": [],
   "source": [
    "import numpy as np"
   ]
  },
  {
   "cell_type": "code",
   "execution_count": 32,
   "id": "5593d44f-6ccc-41e7-bcc7-94cda0f0c83a",
   "metadata": {},
   "outputs": [
    {
     "data": {
      "text/plain": [
       "38.659808254090095"
      ]
     },
     "execution_count": 32,
     "metadata": {},
     "output_type": "execute_result"
    }
   ],
   "source": [
    "np.arctan(8/10)* 180 / np.pi"
   ]
  },
  {
   "cell_type": "code",
   "execution_count": null,
   "id": "f374ee1b-b93b-41aa-9e8a-4664f640426f",
   "metadata": {},
   "outputs": [],
   "source": []
  }
 ],
 "metadata": {
  "kernelspec": {
   "display_name": "Python 3 (ipykernel)",
   "language": "python",
   "name": "python3"
  },
  "language_info": {
   "codemirror_mode": {
    "name": "ipython",
    "version": 3
   },
   "file_extension": ".py",
   "mimetype": "text/x-python",
   "name": "python",
   "nbconvert_exporter": "python",
   "pygments_lexer": "ipython3",
   "version": "3.10.6"
  }
 },
 "nbformat": 4,
 "nbformat_minor": 5
}
